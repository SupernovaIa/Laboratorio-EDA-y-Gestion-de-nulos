{
 "cells": [
  {
   "cell_type": "markdown",
   "metadata": {},
   "source": [
    "<div style=\"text-align: center;\">\n",
    "  <img src=\"https://github.com/Hack-io-Data/Imagenes/blob/main/01-LogosHackio/logo_naranja@4x.png?raw=true\" alt=\"esquema\" />\n",
    "</div>\n"
   ]
  },
  {
   "cell_type": "markdown",
   "metadata": {},
   "source": [
    "# Laboratorio de Feature Scaling\n",
    "\n",
    "Continuando con nuestro proyecto en AutoRenew, la empresa de coches de segunda mano, en este laboratorio abordarás una fase crucial del preprocesamiento de datos: el **Feature Scaling**. Este paso es esencial para asegurar que todas las características (variables) de los coches se encuentren en la misma escala antes de entrenar los modelos de Machine Learning. Esto evitará que algunas características dominen sobre otras debido a sus rangos de valores diferentes, mejorando así la precisión del modelo predictivo que estás desarrollando.\n",
    "\n",
    "Tu tarea en este laboratorio es aplicar técnicas de Feature Scaling a las características del conjunto de datos que consideres relevantes. Este paso es fundamental para preparar los datos de manera adecuada para el entrenamiento de modelos de Machine Learning, lo que haremos en los próximos ejercicios.\n",
    "\n",
    "**Columnas del conjunto de datos que podrías escalar:**\n",
    "\n",
    "- **price**: Precio del coche.\n",
    "\n",
    "- **powerCV**: Potencia del coche en caballos de vapor (CV).\n",
    "\n",
    "- **kilometer**: Kilometraje total del coche.\n",
    "\n",
    "- **yearOfRegistration**: Año de registro del coche (aunque es una característica temporal, en algunos casos puede necesitar escalado dependiendo del enfoque del modelo).\n",
    "\n",
    "- **monthOfRegistration**: Mes de registro del coche.\n",
    "\n",
    "**Instrucciones:**\n",
    "\n",
    "1. **Identificación de las características a escalar:** Revisa el conjunto de datos y selecciona las columnas que deberían ser escaladas. Estas generalmente incluyen características numéricas continuas como el precio, la potencia y el kilometraje.\n",
    "\n",
    "2. **Aplicación de técnicas de Feature Scaling**\n",
    "\n",
    "\n",
    "3. **Comparación de resultados:** Después de aplicar el escalado, observa cómo han cambiado las distribuciones de las características. Evalúa cuál de las técnicas de escalado es más apropiada para este conjunto de datos y justifica tu elección.\n",
    "\n",
    "**Nota:** Este laboratorio se construye sobre el análisis exploratorio y la gestión de nulos que realizaste anteriormente. Asegúrate de mantener una buena documentación de tus procesos, ya que utilizaremos estos datos escalados en las próximas etapas de modelado de Machine Learning.\n"
   ]
  },
  {
   "cell_type": "markdown",
   "metadata": {},
   "source": [
    "---"
   ]
  },
  {
   "cell_type": "code",
   "execution_count": 1,
   "metadata": {},
   "outputs": [],
   "source": [
    "# Para gestionar el feature scaling\n",
    "# -----------------------------------------------------------------------\n",
    "from sklearn.preprocessing import MinMaxScaler, Normalizer, StandardScaler, RobustScaler\n",
    "\n",
    "# Tratamiento de datos\n",
    "# -----------------------------------------------------------------------\n",
    "import pandas as pd\n",
    "import numpy as np\n",
    "\n",
    "# Visualización\n",
    "# -----------------------------------------------------------------------\n",
    "import seaborn as sns\n",
    "import matplotlib.pyplot as plt"
   ]
  },
  {
   "cell_type": "code",
   "execution_count": 2,
   "metadata": {},
   "outputs": [],
   "source": [
    "df = pd.read_csv('datos/autorenew_knn.csv', index_col=0)\n",
    "\n",
    "# Por si acaso, aunque no hace nada aquí\n",
    "df.reset_index(drop=True, inplace=True)"
   ]
  },
  {
   "cell_type": "code",
   "execution_count": 3,
   "metadata": {},
   "outputs": [
    {
     "data": {
      "text/plain": [
       "Index(['price', 'yearOfRegistration', 'powerCV', 'kilometer',\n",
       "       'monthOfRegistration'],\n",
       "      dtype='object')"
      ]
     },
     "execution_count": 3,
     "metadata": {},
     "output_type": "execute_result"
    }
   ],
   "source": [
    "df.select_dtypes(include=np.number).columns"
   ]
  },
  {
   "cell_type": "markdown",
   "metadata": {},
   "source": [
    "Tenemos un problema. Pandas carga de nuevo el csv infiriendo el tipo de dato, por lo que `monthOfRegistration` los tenemos que convertir de nuevo a object."
   ]
  },
  {
   "cell_type": "code",
   "execution_count": 4,
   "metadata": {},
   "outputs": [],
   "source": [
    "df['monthOfRegistration'] = df['monthOfRegistration'].astype(object)"
   ]
  },
  {
   "cell_type": "code",
   "execution_count": 5,
   "metadata": {},
   "outputs": [
    {
     "data": {
      "text/plain": [
       "Index(['price', 'yearOfRegistration', 'powerCV', 'kilometer'], dtype='object')"
      ]
     },
     "execution_count": 5,
     "metadata": {},
     "output_type": "execute_result"
    }
   ],
   "source": [
    "df.select_dtypes(include=np.number).columns"
   ]
  },
  {
   "cell_type": "markdown",
   "metadata": {},
   "source": [
    "Comprobamos de nuevo que solo hay nulos en la variable respuesta:"
   ]
  },
  {
   "cell_type": "code",
   "execution_count": 6,
   "metadata": {},
   "outputs": [
    {
     "data": {
      "text/plain": [
       "price                 18033\n",
       "yearOfRegistration        0\n",
       "powerCV                   0\n",
       "kilometer                 0\n",
       "dtype: int64"
      ]
     },
     "execution_count": 6,
     "metadata": {},
     "output_type": "execute_result"
    }
   ],
   "source": [
    "df.select_dtypes(include=np.number).isna().sum()"
   ]
  },
  {
   "cell_type": "markdown",
   "metadata": {},
   "source": [
    "Ya estamos listos para llevar a cabo la estandarización de las variables numéricas predictoras"
   ]
  },
  {
   "cell_type": "markdown",
   "metadata": {},
   "source": [
    "---"
   ]
  },
  {
   "cell_type": "markdown",
   "metadata": {},
   "source": [
    "Vamos a utilizar un `RobustScaler` ya que queremos tener en cuenta los outliers"
   ]
  },
  {
   "cell_type": "code",
   "execution_count": 7,
   "metadata": {},
   "outputs": [],
   "source": [
    "# Lista de variables predictoras\n",
    "lista_variables_predictoras = ['yearOfRegistration', 'powerCV', 'kilometer']\n",
    "\n",
    "# Elección del método de reescalado\n",
    "escalador_robust = RobustScaler()\n",
    "datos_transf_robust = escalador_robust.fit_transform(df[lista_variables_predictoras])\n",
    "\n",
    "# Creamos una copia para comparar\n",
    "df_raw = df.copy()\n",
    "df[lista_variables_predictoras] = datos_transf_robust"
   ]
  },
  {
   "cell_type": "code",
   "execution_count": 8,
   "metadata": {},
   "outputs": [
    {
     "data": {
      "text/html": [
       "<div>\n",
       "<style scoped>\n",
       "    .dataframe tbody tr th:only-of-type {\n",
       "        vertical-align: middle;\n",
       "    }\n",
       "\n",
       "    .dataframe tbody tr th {\n",
       "        vertical-align: top;\n",
       "    }\n",
       "\n",
       "    .dataframe thead th {\n",
       "        text-align: right;\n",
       "    }\n",
       "</style>\n",
       "<table border=\"1\" class=\"dataframe\">\n",
       "  <thead>\n",
       "    <tr style=\"text-align: right;\">\n",
       "      <th></th>\n",
       "      <th>count</th>\n",
       "      <th>mean</th>\n",
       "      <th>std</th>\n",
       "      <th>min</th>\n",
       "      <th>25%</th>\n",
       "      <th>50%</th>\n",
       "      <th>75%</th>\n",
       "      <th>max</th>\n",
       "    </tr>\n",
       "  </thead>\n",
       "  <tbody>\n",
       "    <tr>\n",
       "      <th>price</th>\n",
       "      <td>334454.0</td>\n",
       "      <td>6238.561695</td>\n",
       "      <td>18671.609473</td>\n",
       "      <td>250.0</td>\n",
       "      <td>1350.0</td>\n",
       "      <td>3200.0</td>\n",
       "      <td>7500.0</td>\n",
       "      <td>3895000.0</td>\n",
       "    </tr>\n",
       "    <tr>\n",
       "      <th>yearOfRegistration</th>\n",
       "      <td>352487.0</td>\n",
       "      <td>2002.671452</td>\n",
       "      <td>7.314566</td>\n",
       "      <td>1910.0</td>\n",
       "      <td>1999.0</td>\n",
       "      <td>2003.0</td>\n",
       "      <td>2007.0</td>\n",
       "      <td>2016.0</td>\n",
       "    </tr>\n",
       "    <tr>\n",
       "      <th>powerCV</th>\n",
       "      <td>352487.0</td>\n",
       "      <td>124.419820</td>\n",
       "      <td>61.102398</td>\n",
       "      <td>10.0</td>\n",
       "      <td>85.0</td>\n",
       "      <td>114.0</td>\n",
       "      <td>148.0</td>\n",
       "      <td>1299.0</td>\n",
       "    </tr>\n",
       "    <tr>\n",
       "      <th>kilometer</th>\n",
       "      <td>352487.0</td>\n",
       "      <td>125618.576004</td>\n",
       "      <td>40067.294497</td>\n",
       "      <td>5000.0</td>\n",
       "      <td>125000.0</td>\n",
       "      <td>150000.0</td>\n",
       "      <td>150000.0</td>\n",
       "      <td>150000.0</td>\n",
       "    </tr>\n",
       "  </tbody>\n",
       "</table>\n",
       "</div>"
      ],
      "text/plain": [
       "                       count           mean           std     min       25%  \\\n",
       "price               334454.0    6238.561695  18671.609473   250.0    1350.0   \n",
       "yearOfRegistration  352487.0    2002.671452      7.314566  1910.0    1999.0   \n",
       "powerCV             352487.0     124.419820     61.102398    10.0      85.0   \n",
       "kilometer           352487.0  125618.576004  40067.294497  5000.0  125000.0   \n",
       "\n",
       "                         50%       75%        max  \n",
       "price                 3200.0    7500.0  3895000.0  \n",
       "yearOfRegistration    2003.0    2007.0     2016.0  \n",
       "powerCV                114.0     148.0     1299.0  \n",
       "kilometer           150000.0  150000.0   150000.0  "
      ]
     },
     "execution_count": 8,
     "metadata": {},
     "output_type": "execute_result"
    }
   ],
   "source": [
    "df_raw.describe().T"
   ]
  },
  {
   "cell_type": "code",
   "execution_count": 9,
   "metadata": {},
   "outputs": [
    {
     "data": {
      "text/html": [
       "<div>\n",
       "<style scoped>\n",
       "    .dataframe tbody tr th:only-of-type {\n",
       "        vertical-align: middle;\n",
       "    }\n",
       "\n",
       "    .dataframe tbody tr th {\n",
       "        vertical-align: top;\n",
       "    }\n",
       "\n",
       "    .dataframe thead th {\n",
       "        text-align: right;\n",
       "    }\n",
       "</style>\n",
       "<table border=\"1\" class=\"dataframe\">\n",
       "  <thead>\n",
       "    <tr style=\"text-align: right;\">\n",
       "      <th></th>\n",
       "      <th>count</th>\n",
       "      <th>mean</th>\n",
       "      <th>std</th>\n",
       "      <th>min</th>\n",
       "      <th>25%</th>\n",
       "      <th>50%</th>\n",
       "      <th>75%</th>\n",
       "      <th>max</th>\n",
       "    </tr>\n",
       "  </thead>\n",
       "  <tbody>\n",
       "    <tr>\n",
       "      <th>price</th>\n",
       "      <td>334454.0</td>\n",
       "      <td>6238.561695</td>\n",
       "      <td>18671.609473</td>\n",
       "      <td>250.000000</td>\n",
       "      <td>1350.000000</td>\n",
       "      <td>3200.0</td>\n",
       "      <td>7500.000000</td>\n",
       "      <td>3.895000e+06</td>\n",
       "    </tr>\n",
       "    <tr>\n",
       "      <th>yearOfRegistration</th>\n",
       "      <td>352487.0</td>\n",
       "      <td>-0.041069</td>\n",
       "      <td>0.914321</td>\n",
       "      <td>-11.625000</td>\n",
       "      <td>-0.500000</td>\n",
       "      <td>0.0</td>\n",
       "      <td>0.500000</td>\n",
       "      <td>1.625000e+00</td>\n",
       "    </tr>\n",
       "    <tr>\n",
       "      <th>powerCV</th>\n",
       "      <td>352487.0</td>\n",
       "      <td>0.165394</td>\n",
       "      <td>0.969879</td>\n",
       "      <td>-1.650794</td>\n",
       "      <td>-0.460317</td>\n",
       "      <td>0.0</td>\n",
       "      <td>0.539683</td>\n",
       "      <td>1.880952e+01</td>\n",
       "    </tr>\n",
       "    <tr>\n",
       "      <th>kilometer</th>\n",
       "      <td>352487.0</td>\n",
       "      <td>-0.975257</td>\n",
       "      <td>1.602692</td>\n",
       "      <td>-5.800000</td>\n",
       "      <td>-1.000000</td>\n",
       "      <td>0.0</td>\n",
       "      <td>0.000000</td>\n",
       "      <td>0.000000e+00</td>\n",
       "    </tr>\n",
       "  </tbody>\n",
       "</table>\n",
       "</div>"
      ],
      "text/plain": [
       "                       count         mean           std         min  \\\n",
       "price               334454.0  6238.561695  18671.609473  250.000000   \n",
       "yearOfRegistration  352487.0    -0.041069      0.914321  -11.625000   \n",
       "powerCV             352487.0     0.165394      0.969879   -1.650794   \n",
       "kilometer           352487.0    -0.975257      1.602692   -5.800000   \n",
       "\n",
       "                            25%     50%          75%           max  \n",
       "price               1350.000000  3200.0  7500.000000  3.895000e+06  \n",
       "yearOfRegistration    -0.500000     0.0     0.500000  1.625000e+00  \n",
       "powerCV               -0.460317     0.0     0.539683  1.880952e+01  \n",
       "kilometer             -1.000000     0.0     0.000000  0.000000e+00  "
      ]
     },
     "execution_count": 9,
     "metadata": {},
     "output_type": "execute_result"
    }
   ],
   "source": [
    "df.describe().T"
   ]
  },
  {
   "cell_type": "markdown",
   "metadata": {},
   "source": [
    "Vemos que se han estandarizado las variables. Pero vamos a verlo mejor gráficamente"
   ]
  },
  {
   "cell_type": "code",
   "execution_count": 10,
   "metadata": {},
   "outputs": [
    {
     "data": {
      "image/png": "[encoded data removed]",
      "text/plain": [
       "<Figure size 1500x500 with 6 Axes>"
      ]
     },
     "metadata": {},
     "output_type": "display_data"
    }
   ],
   "source": [
    "fig, axes = plt.subplots(nrows=2, ncols=3, figsize=(15, 5))\n",
    "\n",
    "# Gráficos escalados\n",
    "sns.boxplot(x=\"yearOfRegistration\", data=df, ax=axes[0][0])\n",
    "axes[0][0].set_title(\"Año de Registro (escalado)\")\n",
    "\n",
    "sns.boxplot(x=\"powerCV\", data=df, ax=axes[0][1])\n",
    "axes[0][1].set_title(\"Potencia en CV (escalado)\")\n",
    "\n",
    "sns.boxplot(x=\"kilometer\", data=df, ax=axes[0][2])\n",
    "axes[0][2].set_title(\"Kilometraje (escalado)\")\n",
    "\n",
    "# Segunda fila de gráficos\n",
    "sns.boxplot(x=\"yearOfRegistration\", data=df_raw, ax=axes[1][0])\n",
    "axes[1][0].set_title(\"Año de Registro (original)\")\n",
    "\n",
    "sns.boxplot(x=\"powerCV\", data=df_raw, ax=axes[1][1])\n",
    "axes[1][1].set_title(\"Potencia en CV (original)\")\n",
    "\n",
    "sns.boxplot(x=\"kilometer\", data=df_raw, ax=axes[1][2])\n",
    "axes[1][2].set_title(\"Kilometraje (original)\")\n",
    "\n",
    "plt.tight_layout()\n",
    "plt.show()"
   ]
  },
  {
   "cell_type": "markdown",
   "metadata": {},
   "source": [
    "Vemos que efectivamente los hemos escalado a la mediana manteniendo su distribución, gracias al reescalado de forma robusta.\n",
    "\n",
    "Simplemente vamos a guardar el dataframe en csv."
   ]
  },
  {
   "cell_type": "code",
   "execution_count": 11,
   "metadata": {},
   "outputs": [],
   "source": [
    "df.to_csv('datos/autorenew_knn_escalado.csv')"
   ]
  }
 ],
 "metadata": {
  "kernelspec": {
   "display_name": "proyecto7",
   "language": "python",
   "name": "python3"
  },
  "language_info": {
   "codemirror_mode": {
    "name": "ipython",
    "version": 3
   },
   "file_extension": ".py",
   "mimetype": "text/x-python",
   "name": "python",
   "nbconvert_exporter": "python",
   "pygments_lexer": "ipython3",
   "version": "3.12.7"
  }
 },
 "nbformat": 4,
 "nbformat_minor": 2
}
